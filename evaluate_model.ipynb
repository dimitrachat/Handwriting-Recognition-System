{
 "cells": [
  {
   "cell_type": "code",
   "execution_count": 1,
   "metadata": {},
   "outputs": [],
   "source": [
    "from tensorflow.keras.models import load_model\n",
    "from tqdm.notebook import tqdm\n",
    "from numpy import load\n",
    "import numpy as np\n",
    "import pandas as pd\n",
    "import json"
   ]
  },
  {
   "cell_type": "code",
   "execution_count": 167,
   "metadata": {},
   "outputs": [
    {
     "data": {
      "text/plain": [
       "1.0"
      ]
     },
     "execution_count": 167,
     "metadata": {},
     "output_type": "execute_result"
    }
   ],
   "source": [
    "round(float(1), 3)"
   ]
  },
  {
   "cell_type": "code",
   "execution_count": 168,
   "metadata": {},
   "outputs": [],
   "source": [
    "def calculate_accuracy(true_words, predicted_words):\n",
    "    total_words = len(true_words)\n",
    "    correct_predictions = sum(1 for true, pred in zip(true_words, predicted_words) if true == pred)\n",
    "    accuracy = correct_predictions / total_words\n",
    "    return round(float(accuracy), 3)\n",
    "\n",
    "def calculate_precision(true_words, predicted_words):\n",
    "    true_positives = sum(1 for true, pred in zip(true_words, predicted_words) if true == pred)\n",
    "    predicted_positives = sum(1 for pred in predicted_words if pred in true_words)\n",
    "\n",
    "    if predicted_positives == 0:\n",
    "        precision = 0\n",
    "    else:\n",
    "        precision = true_positives / predicted_positives\n",
    "\n",
    "    return round(precision, 3)\n",
    "\n",
    "\n",
    "def calculate_recall(true_words, predicted_words):\n",
    "    true_positives = sum(1 for true, pred in zip(true_words, predicted_words) if true == pred)\n",
    "    actual_positives = len(true_words)\n",
    "\n",
    "    if actual_positives == 0:\n",
    "        recall = 0\n",
    "    else:\n",
    "        recall = true_positives / actual_positives\n",
    "\n",
    "    return round(recall, 3)\n",
    "\n",
    "# Predict the label from model and find which letter it is\n",
    "def find_preds_letters(model, test_X, tuples_dict):\n",
    "        preds_letters = []\n",
    "\n",
    "        preds = model.predict(test_X)\n",
    "\n",
    "        for pred in preds:\n",
    "                max_value = pred.max()\n",
    "                idx = np.where(pred==max_value)[0][0]\n",
    "                preds_letters.append(tuples_dict[str(idx)])\n",
    "        return preds_letters\n",
    "\n",
    "# Find accuraccy with Normalized Hamming Distance\n",
    "def calculate_normalized_hamming_distance(preds_letters, labels, test_filenames):\n",
    "    final_preds = {}\n",
    "    words = []\n",
    "    pred_words = []\n",
    "\n",
    "    counter_correct = 0\n",
    "    counter_word = 0\n",
    "    word = []\n",
    "    pred_word = []\n",
    "\n",
    "    filename_old = test_filenames[0]\n",
    "    for p, l, f in zip(preds_letters, labels, test_filenames):\n",
    "        \n",
    "        if f == filename_old:\n",
    "            if p == l:\n",
    "                counter_correct = counter_correct +1\n",
    "                counter_word = counter_word +1 \n",
    "                word.append(l)\n",
    "                pred_word.append(p)\n",
    "            else:\n",
    "                counter_word = counter_word +1 \n",
    "                word.append(l)\n",
    "                pred_word.append(p)\n",
    "        else:\n",
    "            temp_dict = {\n",
    "                'accuracy' : counter_correct/counter_word,\n",
    "                'word' : ''.join(word),\n",
    "                'pred_word' : ''.join(pred_word)\n",
    "            }\n",
    "            final_preds[filename_old] = temp_dict\n",
    "            words.append(''.join(word))\n",
    "            pred_words.append(''.join(pred_word))\n",
    "\n",
    "            filename_old = f\n",
    "            counter_correct = 0\n",
    "            counter_word = 0\n",
    "            word = []\n",
    "            pred_word = []\n",
    "\n",
    "            if p == l:\n",
    "                counter_correct = counter_correct +1\n",
    "                counter_word = counter_word +1 \n",
    "                word.append(l)\n",
    "                pred_word.append(p)\n",
    "            else:\n",
    "                counter_word = counter_word +1 \n",
    "                word.append(l)\n",
    "                pred_word.append(p)\n",
    "    return final_preds, words, pred_words"
   ]
  },
  {
   "cell_type": "code",
   "execution_count": 155,
   "metadata": {},
   "outputs": [],
   "source": [
    "# Define paths\n",
    "csv_path = \"data/csv/written_name_test_v2.csv\"\n",
    "gray_data_path = \"data/Gray/\"\n",
    "json_data_path = \"data/Json/\"\n",
    "models_path = 'models/'\n",
    "models_names = [\n",
    "        \"model_batch_size_86_epochs_20_train_30000\",\n",
    "        \"model_batch_size_86_epochs_30_old_architecture\",\n",
    "        \"model_batch_size_86_epochs_30_train_60000\",\n",
    "        \"model_batch_size_86_epochs_30_train_60000_imagegenerator\",\n",
    "        \"model_batch_size_86_epochs_30_train_90000\"\n",
    "\n",
    "]\n",
    "\n",
    "#Import numpy files\n",
    "test_X = load(gray_data_path+'test_X.npy')\n",
    "test_Y = load(gray_data_path+'test_Y.npy')\n",
    "test_filenames = load(gray_data_path+'test_filenames.npy')\n",
    "\n",
    "test_X =test_X[0:500]\n",
    "test_Y =test_Y[0:500]\n",
    "test_filenames = test_filenames[0:500]\n",
    "\n",
    "\n",
    "\n",
    "# Import Json\n",
    "with open(json_data_path+'tuples.json', 'r') as openfile:\n",
    " \n",
    "    # Reading from json file\n",
    "    tuples_dict = json.load(openfile)"
   ]
  },
  {
   "cell_type": "code",
   "execution_count": 178,
   "metadata": {},
   "outputs": [
    {
     "name": "stdout",
     "output_type": "stream",
     "text": [
      "Accuraccy score: 0.26, Precision Score: 1.0, Recall Score: 0.26\n",
      "Accuraccy score: 0.26, Precision Score: 1.0, Recall Score: 0.26\n",
      "Accuraccy score: 0.26, Precision Score: 1.0, Recall Score: 0.26\n",
      "Accuraccy score: 0.26, Precision Score: 1.0, Recall Score: 0.26\n",
      "Accuraccy score: 0.26, Precision Score: 1.0, Recall Score: 0.26\n"
     ]
    }
   ],
   "source": [
    "accuraccy_scores = []\n",
    "precision_scores = []\n",
    "recall_scores = []\n",
    "model_names = []\n",
    "\n",
    "for model_name in models_names:\n",
    "    # Import model\n",
    "    model = load_model(models_path+model_name+\".h5\")\n",
    "\n",
    "    preds_letters = find_preds_letters(model, test_X, tuples_dict)\n",
    "    final_preds, words, pred_words = calculate_normalized_hamming_distance(preds_letters, labels, test_filenames)\n",
    "\n",
    "    accuraccy_scores.append(calculate_accuracy(words, pred_words))\n",
    "    precision_scores.append(calculate_precision(words, pred_words))\n",
    "    recall_scores.append(calculate_recall(words, pred_words))\n",
    "    model_names.append(model_name)\n",
    "\n",
    "dict = {\n",
    "    'Model' : model_names,\n",
    "    'Accuraccy_score': accuraccy_scores,\n",
    "    'Precision_score':precision_scores,\n",
    "    'Recall_score':recall_scores\n",
    "}\n",
    "df = pd.DataFrame.from_dict(dict)\n"
   ]
  },
  {
   "cell_type": "code",
   "execution_count": 179,
   "metadata": {},
   "outputs": [
    {
     "data": {
      "text/html": [
       "<div>\n",
       "<style scoped>\n",
       "    .dataframe tbody tr th:only-of-type {\n",
       "        vertical-align: middle;\n",
       "    }\n",
       "\n",
       "    .dataframe tbody tr th {\n",
       "        vertical-align: top;\n",
       "    }\n",
       "\n",
       "    .dataframe thead th {\n",
       "        text-align: right;\n",
       "    }\n",
       "</style>\n",
       "<table border=\"1\" class=\"dataframe\">\n",
       "  <thead>\n",
       "    <tr style=\"text-align: right;\">\n",
       "      <th></th>\n",
       "      <th>Model</th>\n",
       "      <th>Accuraccy_score</th>\n",
       "      <th>Precision_score</th>\n",
       "      <th>Recall_score</th>\n",
       "    </tr>\n",
       "  </thead>\n",
       "  <tbody>\n",
       "    <tr>\n",
       "      <th>0</th>\n",
       "      <td>model_batch_size_86_epochs_20_train_30000</td>\n",
       "      <td>0.000</td>\n",
       "      <td>0.0</td>\n",
       "      <td>0.000</td>\n",
       "    </tr>\n",
       "    <tr>\n",
       "      <th>1</th>\n",
       "      <td>model_batch_size_86_epochs_30_old_architecture</td>\n",
       "      <td>0.429</td>\n",
       "      <td>1.0</td>\n",
       "      <td>0.429</td>\n",
       "    </tr>\n",
       "    <tr>\n",
       "      <th>2</th>\n",
       "      <td>model_batch_size_86_epochs_30_train_60000</td>\n",
       "      <td>0.506</td>\n",
       "      <td>1.0</td>\n",
       "      <td>0.506</td>\n",
       "    </tr>\n",
       "    <tr>\n",
       "      <th>3</th>\n",
       "      <td>model_batch_size_86_epochs_30_train_60000_imag...</td>\n",
       "      <td>0.026</td>\n",
       "      <td>1.0</td>\n",
       "      <td>0.026</td>\n",
       "    </tr>\n",
       "    <tr>\n",
       "      <th>4</th>\n",
       "      <td>model_batch_size_86_epochs_30_train_90000</td>\n",
       "      <td>0.260</td>\n",
       "      <td>1.0</td>\n",
       "      <td>0.260</td>\n",
       "    </tr>\n",
       "  </tbody>\n",
       "</table>\n",
       "</div>"
      ],
      "text/plain": [
       "                                               Model  Accuraccy_score  \\\n",
       "0          model_batch_size_86_epochs_20_train_30000            0.000   \n",
       "1     model_batch_size_86_epochs_30_old_architecture            0.429   \n",
       "2          model_batch_size_86_epochs_30_train_60000            0.506   \n",
       "3  model_batch_size_86_epochs_30_train_60000_imag...            0.026   \n",
       "4          model_batch_size_86_epochs_30_train_90000            0.260   \n",
       "\n",
       "   Precision_score  Recall_score  \n",
       "0              0.0         0.000  \n",
       "1              1.0         0.429  \n",
       "2              1.0         0.506  \n",
       "3              1.0         0.026  \n",
       "4              1.0         0.260  "
      ]
     },
     "execution_count": 179,
     "metadata": {},
     "output_type": "execute_result"
    }
   ],
   "source": [
    "\n",
    "df"
   ]
  },
  {
   "cell_type": "code",
   "execution_count": 138,
   "metadata": {},
   "outputs": [],
   "source": [
    "\n"
   ]
  },
  {
   "cell_type": "code",
   "execution_count": 124,
   "metadata": {},
   "outputs": [
    {
     "name": "stdout",
     "output_type": "stream",
     "text": [
      "0.2597402597402597\n",
      "1.0\n",
      "0.2597402597402597\n"
     ]
    }
   ],
   "source": [
    "print(accuraccy_score)\n",
    "print(precision_score)\n",
    "print(recall_score)"
   ]
  },
  {
   "cell_type": "code",
   "execution_count": 142,
   "metadata": {},
   "outputs": [],
   "source": [
    "df = pd.DataFrame()"
   ]
  },
  {
   "cell_type": "code",
   "execution_count": 143,
   "metadata": {},
   "outputs": [],
   "source": []
  },
  {
   "cell_type": "code",
   "execution_count": 141,
   "metadata": {},
   "outputs": [
    {
     "data": {
      "text/html": [
       "<div>\n",
       "<style scoped>\n",
       "    .dataframe tbody tr th:only-of-type {\n",
       "        vertical-align: middle;\n",
       "    }\n",
       "\n",
       "    .dataframe tbody tr th {\n",
       "        vertical-align: top;\n",
       "    }\n",
       "\n",
       "    .dataframe thead th {\n",
       "        text-align: right;\n",
       "    }\n",
       "</style>\n",
       "<table border=\"1\" class=\"dataframe\">\n",
       "  <thead>\n",
       "    <tr style=\"text-align: right;\">\n",
       "      <th></th>\n",
       "      <th>accuraccy_score</th>\n",
       "      <th>precision_score</th>\n",
       "      <th>recall_score</th>\n",
       "    </tr>\n",
       "  </thead>\n",
       "  <tbody>\n",
       "    <tr>\n",
       "      <th>0</th>\n",
       "      <td>0.25974</td>\n",
       "      <td>1.0</td>\n",
       "      <td>0.25974</td>\n",
       "    </tr>\n",
       "  </tbody>\n",
       "</table>\n",
       "</div>"
      ],
      "text/plain": [
       "   accuraccy_score  precision_score  recall_score\n",
       "0          0.25974              1.0       0.25974"
      ]
     },
     "execution_count": 141,
     "metadata": {},
     "output_type": "execute_result"
    }
   ],
   "source": []
  },
  {
   "cell_type": "code",
   "execution_count": null,
   "metadata": {},
   "outputs": [],
   "source": []
  }
 ],
 "metadata": {
  "kernelspec": {
   "display_name": "ml_apps_env2",
   "language": "python",
   "name": "python3"
  },
  "language_info": {
   "codemirror_mode": {
    "name": "ipython",
    "version": 3
   },
   "file_extension": ".py",
   "mimetype": "text/x-python",
   "name": "python",
   "nbconvert_exporter": "python",
   "pygments_lexer": "ipython3",
   "version": "3.8.0"
  },
  "orig_nbformat": 4
 },
 "nbformat": 4,
 "nbformat_minor": 2
}
